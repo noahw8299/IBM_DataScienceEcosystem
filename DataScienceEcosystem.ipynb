{
 "cells": [
  {
   "cell_type": "markdown",
   "id": "d1b8068d-16bf-4b29-90c6-213f2a9f4c58",
   "metadata": {},
   "source": [
    "# Data Science Tools and Ecosystem"
   ]
  },
  {
   "cell_type": "markdown",
   "id": "e636aa34-2dde-4693-b3e9-569f1293343c",
   "metadata": {
    "tags": []
   },
   "source": [
    "**In this notebook, Data Science Tools and Ecosystem are summarized.**"
   ]
  },
  {
   "cell_type": "markdown",
   "id": "35a8577c-deec-45e6-a7a6-fff30f3b9527",
   "metadata": {},
   "source": [
    "**Some of the popular languages that Data Scientists use are:** \n",
    "1. Python\n",
    "2. SQL\n",
    "3. R"
   ]
  },
  {
   "cell_type": "markdown",
   "id": "fdefbca2-1e93-46c5-83c0-23df39b2b35c",
   "metadata": {},
   "source": [
    "**Some of the commonly used libraries used by Data Scientists include:**\n",
    "1. Pandas\n",
    "2. Scikit-learn\n",
    "3. PyTorch\n",
    "4. NumPy\n",
    "5. TensorFlow"
   ]
  },
  {
   "cell_type": "markdown",
   "id": "820a4150-7718-46b2-9d0d-02023214d3f6",
   "metadata": {},
   "source": [
    "Data Science Tools\n",
    "|Data Science Tools| \n",
    "|------------------| \n",
    "|Jupyter Notebook| \n",
    "|RStudio| \n",
    "|Apache Spark|"
   ]
  },
  {
   "cell_type": "markdown",
   "id": "ed3c292b-a80b-46b1-8245-d20b391274af",
   "metadata": {},
   "source": [
    "### Below are a few examples of evaluating arithmetic expressions in Python"
   ]
  },
  {
   "cell_type": "code",
   "execution_count": 5,
   "id": "5e302efb-967d-48b1-9ad4-b454d6a4002a",
   "metadata": {},
   "outputs": [
    {
     "name": "stdout",
     "output_type": "stream",
     "text": [
      "17, True\n"
     ]
    }
   ],
   "source": [
    "# This a simple arithmetic expression to mutiply then add integers\n",
    "\n",
    "x = (3*4)+5\n",
    "print(f\"{x}, {x==17}\")"
   ]
  },
  {
   "cell_type": "code",
   "execution_count": 7,
   "id": "c67c4ab8-887c-496b-8237-ff1d80c546cb",
   "metadata": {},
   "outputs": [
    {
     "name": "stdout",
     "output_type": "stream",
     "text": [
      "3.3333333333333335\n"
     ]
    }
   ],
   "source": [
    "# This will convert 200 minutes to hours by diving by 60This will convert 200 minutes to hours by diving by 60\n",
    "\n",
    "hours = 200 / 60\n",
    "print(hours)"
   ]
  },
  {
   "cell_type": "markdown",
   "id": "416ca9b5-7393-4065-9ade-8db378876905",
   "metadata": {},
   "source": [
    "**Objective:** List popular languages for Data Science\n",
    "1. Python\n",
    "2. SQL\n",
    "3. R"
   ]
  },
  {
   "cell_type": "markdown",
   "id": "142a1416-f4b1-467c-a883-cd3d0f47f672",
   "metadata": {},
   "source": [
    "## Author\n",
    "Noah Wright"
   ]
  }
 ],
 "metadata": {
  "kernelspec": {
   "display_name": "Python 3 (ipykernel)",
   "language": "python",
   "name": "python3"
  },
  "language_info": {
   "codemirror_mode": {
    "name": "ipython",
    "version": 3
   },
   "file_extension": ".py",
   "mimetype": "text/x-python",
   "name": "python",
   "nbconvert_exporter": "python",
   "pygments_lexer": "ipython3",
   "version": "3.10.12"
  }
 },
 "nbformat": 4,
 "nbformat_minor": 5
}
